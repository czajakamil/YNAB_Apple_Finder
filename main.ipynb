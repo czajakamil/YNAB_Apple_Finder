{
 "cells": [
  {
   "cell_type": "code",
   "execution_count": null,
   "metadata": {},
   "outputs": [],
   "source": [
    "from openai import OpenAI\n",
    "import requests\n",
    "import json\n",
    "from functions import convert_pdfs_to_pngs, get_the_files_with_paths, encode_image, validate_json\n",
    "import os\n",
    "import re\n",
    "from dotenv import load_dotenv\n",
    "from datetime import datetime"
   ]
  },
  {
   "cell_type": "code",
   "execution_count": null,
   "metadata": {},
   "outputs": [],
   "source": [
    "# Załaduj zmienne środowiskowe z pliku .env\n",
    "load_dotenv()\n",
    "\n",
    "# Przypisz zmienne środowiskowe do zmiennych\n",
    "api_key = os.getenv('OPENAI_API')\n",
    "pdf_path = os.getenv('PDF_DIRECTORY')\n",
    "png_path = os.getenv('OUTPUT_DIRECTORY')\n",
    "main_json_file = os.getenv('JSON_MAIN_FILE')"
   ]
  },
  {
   "cell_type": "code",
   "execution_count": null,
   "metadata": {},
   "outputs": [],
   "source": [
    "# Konwertowanie PDF'ów na PNG z folderu PDFs do folderu PNGs jak i zmienianie im nazwy na prefix 'Converted' i datę utworzenia pliku.\n",
    "convert_pdfs_to_pngs(pdf_path, png_path)\n",
    "\n",
    "# Wybieranie plików do OCR'owania z katalogu PNG, które nie zaczynają się od DONE\n",
    "files_to_analyze = get_the_files_with_paths(png_path)\n",
    "\n",
    "print(f\"Liczba plików do Sprawdzenia: {len(files_to_analyze)}\")"
   ]
  },
  {
   "cell_type": "code",
   "execution_count": null,
   "metadata": {},
   "outputs": [],
   "source": [
    "# Jeden pliczek do testów na razie\n",
    "file  = files_to_analyze[-2]\n",
    "file"
   ]
  },
  {
   "cell_type": "code",
   "execution_count": null,
   "metadata": {},
   "outputs": [],
   "source": [
    "# Getting the base64 string for GPT\n",
    "base64_image = encode_image(file)"
   ]
  },
  {
   "cell_type": "markdown",
   "metadata": {},
   "source": [
    "OCR and Image Recognition with GPT"
   ]
  },
  {
   "cell_type": "code",
   "execution_count": null,
   "metadata": {},
   "outputs": [],
   "source": [
    "prompt = \"\"\"\n",
    "Jesteś analizazatorem paragonów. Na podstawie podanego zdjęcia paragonu, wyciągnij z niego jak najwiecej informacji.\n",
    "Korzystaj z polskich znaków, tam gdzie jest to wymagane.\n",
    "Odpowiadaj tylko i wyłącznie w postaci JSONA, korzystając z ponizszego szablonu:\n",
    "{\n",
    "  \"transactions\": [\n",
    "    {\n",
    "      \"id\": \"unique_transaction_id_1\",  // Unikalny identyfikator transakcji\n",
    "      \"receipt_number\": \"1234567890\",  // Numer paragonu\n",
    "      \"timestamp\": \"2023-09-23T14:55:00Z\",  // Znacznik czasu transakcji w formacie ISO 8601\n",
    "      \"date\": \"2023-09-23\",  // Data transakcji\n",
    "      \"store\": {\n",
    "        \"name\": \"Dealz\",  // Nazwa sklepu\n",
    "        \"address\": \"Ul. Dąbrowskiego 79a, Poznań\",  // Adres sklepu\n",
    "        \"additional_information\": \"Sklep: P2339\",  // Dodatkowe informacje o sklepie\n",
    "        \"NIP\": \"7811963267\"  // Numer identyfikacji podatkowej sklepu. Jeśli pojawią się tutaj znaki '-', pomiń je i wpisz same cyfry.\n",
    "      },\n",
    "      \"cashier\": \"John Doe\",  // Imię i nazwisko kasjera\n",
    "      \"terminal_id\": \"POS12345\",  // Identyfikator terminala płatniczego\n",
    "      \"total\": 53.00,  // Całkowita kwota transakcji\n",
    "      \"taxes_total\": 8.23, // Suma wszystkich podatków w transakcji\n",
    "      \"currency\": \"PLN\",  // Waluta transakcji\n",
    "      \"payment_method\": \"credit_card\",  // Metoda płatności\n",
    "      \"taxes\": [\n",
    "        {\n",
    "          \"type\": \"VAT\",  // Rodzaj podatku\n",
    "          \"rate\": 0.23,  // Stawka podatku\n",
    "          \"amount\": 8.23  // Kwota podatku\n",
    "        }\n",
    "      ],\n",
    "      \"discounts\": [\n",
    "        {\n",
    "          \"description\": \"Weekend discount\",  // Opis zniżki\n",
    "          \"amount\": 5.00  // Kwota zniżki\n",
    "        }\n",
    "      ],\n",
    "      \"items\": [\n",
    "        {\n",
    "\t\t  \"name\": \"3008948 wilg. chus.samochod.biodegradowalne C&c 1*4.49\",  // Nazwa bezpośrednio 1:1 z paragoniu, bez żadnych przeinaczeń\n",
    "\t      \"name_simplified\": \"wilgotne chusteczki do samochododu\", // Nazwa uproszczona,\n",
    "          \"unit_price\": {\n",
    "            \"before_discount\": 4.49,  // Cena jednostkowa przed zniżką\n",
    "            \"after_discount\": 4.49  // Cena jednostkowa po zniżce\n",
    "          },\n",
    "          \"quantity\": 1,  // Ilość jednostek produktu\n",
    "          \"total_price\": {\n",
    "            \"before_discount\": 4.49,  // Całkowita cena przed zniżką\n",
    "            \"after_discount\": 4.49  // Całkowita cena po zniżce\n",
    "          },\n",
    "          \"unit_of_measurement\": \"szt.\",  // Jednostka miary produktu\n",
    "          \"quantity_in_units\": 1,  // Ilość produktu w gramach (1000 gram to 1 kg)\n",
    "          \"category\": \"Samochód\",  // Kategoria produktu\n",
    "          \"tax_rate\": 0.23,  // Stawka podatku\n",
    "          \"discount\": {\n",
    "            \"description\": null,  // Opis zniżki na produkt\n",
    "            \"amount\": 0  // Kwota zniżki na produkt\n",
    "          },\n",
    "          \"manufacturer\": null,  // Producent produktu\n",
    "          \"comment\": null  // Komentarz do produktu\n",
    "        },\n",
    "        {\n",
    "        \t\"name\": \"Filet z p.kurczaka\",  // Nazwa bezpośrednio 1:1 z paragoniu, bez żadnych przeinaczeń\n",
    "\t      \"name_simplified\": \"Filet z piersi kurczaka\", // Nazwa uproszczona,\n",
    "          \"unit_price\": {\n",
    "            \"before_discount\": 22.00,  // Cena jednostkowa przed zniżką\n",
    "            \"after_discount\": 22.00  // Cena jednostkowa po zniżce\n",
    "          },\n",
    "          \"quantity\": 1,  // Ilość jednostek produktu\n",
    "          \"total_price\": {\n",
    "            \"before_discount\": 10.71,  // Całkowita cena przed zniżką\n",
    "            \"after_discount\": 10.71  // Całkowita cena po zniżce\n",
    "          },\n",
    "          \"unit_of_measurement\": \"g\",  // Jednostka miary produktu\n",
    "          \"quantity_in_units\": 0.487,  // Ilość produktu w gramach (1000 gram to 1 kg)\n",
    "          \"category\": \"Mięso\",  // Kategoria produktu\n",
    "          \"tax_rate\": 0.05,  // Stawka podatku\n",
    "          \"discount\": {\n",
    "            \"description\": null,  // Opis zniżki na produkt\n",
    "            \"amount\": 0  // Kwota zniżki na produkt\n",
    "          },\n",
    "          \"manufacturer\": null,  // Producent produktu\n",
    "          \"comment\": null  // Komentarz do produktu\n",
    "        }\n",
    "    ],\n",
    "      \"comments\": \"Zakupy\",  // Komentarz do transakcji\n",
    "      \"category\": \"Zakupy Spożywcze\",  // Kategoria całej transakcji\n",
    "      \"transaction_comment\": \"Weekendowe Zakupy\"  // Komentarz do całej transakcji\n",
    "    }\n",
    "  ]\n",
    "}\n",
    "```\n",
    "\"\"\""
   ]
  },
  {
   "cell_type": "code",
   "execution_count": null,
   "metadata": {},
   "outputs": [],
   "source": [
    "headers = {\n",
    "  \"Content-Type\": \"application/json\",\n",
    "  \"Authorization\": f\"Bearer {api_key}\"\n",
    "}\n",
    "\n",
    "payload = {\n",
    "  \"model\": \"gpt-4o\",\n",
    "  \"messages\": [\n",
    "    {\n",
    "      \"role\": \"user\",\n",
    "      \"content\": [\n",
    "        {\n",
    "          \"type\": \"text\",\n",
    "          \"text\": f\"{prompt}\"\n",
    "        },\n",
    "        {\n",
    "          \"type\": \"image_url\",\n",
    "          \"image_url\": {\n",
    "            \"url\": f\"data:image/jpeg;base64,{base64_image}\"\n",
    "          }\n",
    "        }\n",
    "      ]\n",
    "    }\n",
    "  ]\n",
    "}\n",
    "\n",
    "response = requests.post(\"https://api.openai.com/v1/chat/completions\", headers=headers, json=payload)\n",
    "\n",
    "print(response.json())"
   ]
  },
  {
   "cell_type": "code",
   "execution_count": null,
   "metadata": {},
   "outputs": [],
   "source": [
    "# Get the interesting part\n",
    "content = response.json()['choices'][0]['message']['content']\n",
    "\n",
    "# Remove the ```json and ``` markers\n",
    "cleaned_content = content.strip('```json\\n').strip('\\n```')\n",
    "\n",
    "# Parse the cleaned string as JSON\n",
    "json_data = json.loads(cleaned_content)\n",
    "\n",
    "# Print the parsed JSON object to verify\n",
    "print(json.dumps(json_data, indent=4, ensure_ascii=False))"
   ]
  },
  {
   "cell_type": "code",
   "execution_count": null,
   "metadata": {},
   "outputs": [],
   "source": [
    "validate_json(json_data)"
   ]
  }
 ],
 "metadata": {
  "kernelspec": {
   "display_name": "base",
   "language": "python",
   "name": "python3"
  },
  "language_info": {
   "codemirror_mode": {
    "name": "ipython",
    "version": 3
   },
   "file_extension": ".py",
   "mimetype": "text/x-python",
   "name": "python",
   "nbconvert_exporter": "python",
   "pygments_lexer": "ipython3",
   "version": "3.11.7"
  }
 },
 "nbformat": 4,
 "nbformat_minor": 2
}
