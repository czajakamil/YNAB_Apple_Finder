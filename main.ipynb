{
 "cells": [
  {
   "cell_type": "code",
   "execution_count": null,
   "metadata": {},
   "outputs": [],
   "source": [
    "from openai import OpenAI\n",
    "import requests\n",
    "import json\n",
    "from functions import convert_pdfs_to_pngs, get_the_files_with_paths, encode_image, validate_json\n",
    "import os\n",
    "import re\n",
    "from dotenv import load_dotenv\n",
    "from datetime import datetime"
   ]
  },
  {
   "cell_type": "code",
   "execution_count": null,
   "metadata": {},
   "outputs": [],
   "source": [
    "# Załaduj zmienne środowiskowe z pliku .env\n",
    "load_dotenv()\n",
    "\n",
    "# Przypisz zmienne środowiskowe do zmiennych\n",
    "api_key = os.getenv('OPENAI_API')\n",
    "pdf_path = os.getenv('PDF_DIRECTORY')\n",
    "png_path = os.getenv('OUTPUT_DIRECTORY')\n",
    "main_json_file = os.getenv('JSON_MAIN_FILE')"
   ]
  },
  {
   "cell_type": "code",
   "execution_count": null,
   "metadata": {},
   "outputs": [],
   "source": [
    "# Konwertowanie PDF'ów na PNG z folderu PDFs do folderu PNGs jak i zmienianie im nazwy na prefix 'Converted' i datę utworzenia pliku.\n",
    "convert_pdfs_to_pngs(pdf_path, png_path)\n",
    "\n",
    "# Wybieranie plików do OCR'owania z katalogu PNG, które nie zaczynają się od DONE\n",
    "files_to_analyze = get_the_files_with_paths(png_path)\n",
    "\n",
    "print(f\"Liczba plików do Sprawdzenia: {len(files_to_analyze)}\")"
   ]
  },
  {
   "cell_type": "code",
   "execution_count": null,
   "metadata": {},
   "outputs": [],
   "source": [
    "# Jeden pliczek do testów na razie\n",
    "file  = files_to_analyze[-2]\n",
    "file"
   ]
  },
  {
   "cell_type": "code",
   "execution_count": null,
   "metadata": {},
   "outputs": [],
   "source": [
    "# Getting the base64 string for GPT\n",
    "base64_image = encode_image(file)"
   ]
  },
  {
   "cell_type": "markdown",
   "metadata": {},
   "source": [
    "OCR and Image Recognition with GPT"
   ]
  },
  {
   "cell_type": "code",
   "execution_count": null,
   "metadata": {},
   "outputs": [],
   "source": [
    "# Otwórz plikt z promptem i odczytaj jego zawartość jako string\n",
    "with open('prompt.txt', 'r', encoding='utf-8') as file:\n",
    "    prompt = file.read()"
   ]
  },
  {
   "cell_type": "code",
   "execution_count": null,
   "metadata": {},
   "outputs": [],
   "source": [
    "headers = {\n",
    "  \"Content-Type\": \"application/json\",\n",
    "  \"Authorization\": f\"Bearer {api_key}\"\n",
    "}\n",
    "\n",
    "payload = {\n",
    "  \"model\": \"gpt-4o\",\n",
    "  \"messages\": [\n",
    "    {\n",
    "      \"role\": \"user\",\n",
    "      \"content\": [\n",
    "        {\n",
    "          \"type\": \"text\",\n",
    "          \"text\": f\"{prompt}\"\n",
    "        },\n",
    "        {\n",
    "          \"type\": \"image_url\",\n",
    "          \"image_url\": {\n",
    "            \"url\": f\"data:image/jpeg;base64,{base64_image}\"\n",
    "          }\n",
    "        }\n",
    "      ]\n",
    "    }\n",
    "  ]\n",
    "}\n",
    "\n",
    "response = requests.post(\"https://api.openai.com/v1/chat/completions\", headers=headers, json=payload)\n",
    "\n",
    "print(response.json())"
   ]
  },
  {
   "cell_type": "code",
   "execution_count": null,
   "metadata": {},
   "outputs": [],
   "source": [
    "# Get the interesting part\n",
    "content = response.json()['choices'][0]['message']['content']\n",
    "\n",
    "# Remove the ```json and ``` markers\n",
    "cleaned_content = content.strip('```json\\n').strip('\\n```')\n",
    "\n",
    "# Parse the cleaned string as JSON\n",
    "json_data = json.loads(cleaned_content)\n",
    "\n",
    "# Print the parsed JSON object to verify\n",
    "print(json.dumps(json_data, indent=4, ensure_ascii=False))"
   ]
  },
  {
   "cell_type": "code",
   "execution_count": null,
   "metadata": {},
   "outputs": [],
   "source": [
    "validate_json(json_data)"
   ]
  },
  {
   "cell_type": "code",
   "execution_count": null,
   "metadata": {},
   "outputs": [],
   "source": [
    "# Wczytaj istniejące transakcje, jeśli plik istnieje\n",
    "if os.path.exists(main_json_file):\n",
    "    with open(main_json_file, 'r', encoding='utf-8') as file:\n",
    "        all_transactions = json.load(file)\n",
    "else:\n",
    "    all_transactions = {\"transactions\": []}\n",
    "\n",
    "# Dodaj nowe transakcje do zbiorczego pliku\n",
    "all_transactions[\"transactions\"].extend(json_data[\"transactions\"])\n",
    "\n",
    "# Zapisz zaktualizowany plik\n",
    "with open(main_json_file, 'w', encoding='utf-8') as file:\n",
    "    json.dump(all_transactions, file, ensure_ascii=False, indent=4)\n",
    "\n",
    "print(f\"Zaktualizowany plik zapisano jako {main_json_file}\")"
   ]
  }
 ],
 "metadata": {
  "kernelspec": {
   "display_name": "base",
   "language": "python",
   "name": "python3"
  },
  "language_info": {
   "codemirror_mode": {
    "name": "ipython",
    "version": 3
   },
   "file_extension": ".py",
   "mimetype": "text/x-python",
   "name": "python",
   "nbconvert_exporter": "python",
   "pygments_lexer": "ipython3",
   "version": "3.11.7"
  }
 },
 "nbformat": 4,
 "nbformat_minor": 2
}
