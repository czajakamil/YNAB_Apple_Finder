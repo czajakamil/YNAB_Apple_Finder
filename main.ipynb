{
 "cells": [
  {
   "cell_type": "code",
   "execution_count": 6,
   "metadata": {},
   "outputs": [],
   "source": [
    "from openai import OpenAI\n",
    "import base64\n",
    "import requests\n",
    "import json\n",
    "from functions import convert_pdfs_to_pngs, get_the_files_with_paths\n",
    "import os\n",
    "from dotenv import load_dotenv"
   ]
  },
  {
   "cell_type": "code",
   "execution_count": 7,
   "metadata": {},
   "outputs": [],
   "source": [
    "# Załaduj zmienne środowiskowe z pliku .env\n",
    "load_dotenv()\n",
    "\n",
    "# przypisz zmienne środowiskowe do zmiennych\n",
    "api_key = os.getenv('OPENAI_API')\n",
    "pdf_path = os.getenv('PDF_DIRECTORY')\n",
    "png_path = os.getenv('OUTPUT_DIRECTORY')"
   ]
  },
  {
   "cell_type": "code",
   "execution_count": 8,
   "metadata": {},
   "outputs": [],
   "source": [
    "# Konwertowanie PDF'ów na PNG z folderu PDFs do folderu PNGs\n",
    "convert_pdfs_to_pngs(pdf_path, png_path)\n",
    "\n",
    "# Wybieranie plików do sprawdzenia\n",
    "files_to_analyze = get_the_files_with_paths(png_path)"
   ]
  },
  {
   "cell_type": "code",
   "execution_count": 9,
   "metadata": {},
   "outputs": [
    {
     "data": {
      "text/plain": [
       "'/Users/kamilczaja/Library/Mobile Documents/com~apple~CloudDocs/Documents/3. Resources/Paragony/PNGs/Scanned Document 2_page_3.png'"
      ]
     },
     "execution_count": 9,
     "metadata": {},
     "output_type": "execute_result"
    }
   ],
   "source": [
    "# Jeden pliczek do testów\n",
    "file  = files_to_analyze[3]\n",
    "file"
   ]
  },
  {
   "cell_type": "code",
   "execution_count": 10,
   "metadata": {},
   "outputs": [],
   "source": [
    "# Function to encode the image\n",
    "def encode_image(image_path):\n",
    "  with open(image_path, \"rb\") as image_file:\n",
    "    return base64.b64encode(image_file.read()).decode('utf-8')"
   ]
  },
  {
   "cell_type": "code",
   "execution_count": 11,
   "metadata": {},
   "outputs": [],
   "source": [
    "# Getting the base64 string\n",
    "base64_image = encode_image(file)"
   ]
  },
  {
   "cell_type": "code",
   "execution_count": 12,
   "metadata": {},
   "outputs": [],
   "source": [
    "prompt = \"\"\"\n",
    "Jesteś analizazatorem paragonów. Na podstawie podanego zdjęcia paragonu, wyciągnij z niego jak najwiecej informacji.\n",
    "Korzystaj z polskich znaków, tam gdzie jest to wymagane.\n",
    "Odpowiadaj tylko i wyłącznie w postaci JSONA, korzystając z ponizszego szablonu:\n",
    "{\n",
    "  \"transactions\": [\n",
    "    {\n",
    "      \"id\": \"unique_transaction_id_1\",\n",
    "      \"receipt_number\": \"1234567890\",\n",
    "      \"timestamp\": \"2023-09-23T14:55:00Z\",\n",
    "      \"date\": \"2023-09-23\",\n",
    "      \"store\": {\n",
    "        \"name\": \"Dealz\",\n",
    "        \"address\": \"Ul. Dąbrowskiego 79a, Poznań\",\n",
    "        \"additional_information\": \"Sklep: P2339\",\n",
    "        \"NIP\": \"7811963267\"\n",
    "      },\n",
    "      \"cashier\": \"John Doe\",\n",
    "      \"terminal_id\": \"POS12345\",\n",
    "      \"total\": 53.00,\n",
    "      \"currency\": \"PLN\",\n",
    "      \"payment_method\": \"credit_card\",\n",
    "      \"taxes\": [\n",
    "        {\n",
    "          \"type\": \"VAT\",\n",
    "          \"rate\": 0.23,\n",
    "          \"amount\": 8.23\n",
    "        }\n",
    "      ],\n",
    "      \"discounts\": [\n",
    "        {\n",
    "          \"description\": \"Weekend discount\",\n",
    "          \"amount\": 5.00\n",
    "        }\n",
    "      ],\n",
    "      \"items\": [\n",
    "        {\n",
    "          \"name\": \"CHEESE\",\n",
    "          \"unit_price\": {\n",
    "            \"before_discount\": 10.00,\n",
    "            \"after_discount\": 9.50\n",
    "          },\n",
    "          \"quantity\": 1,\n",
    "          \"total_price\": {\n",
    "            \"before_discount\": 10.00,\n",
    "            \"after_discount\": 9.50\n",
    "          },\n",
    "          \"category\": \"Dairy\",\n",
    "          \"tax_rate\": 0.23,\n",
    "          \"discount\": {\n",
    "            \"description\": \"Cheese discount\",\n",
    "            \"amount\": 0.50\n",
    "          }\n",
    "        },\n",
    "        {\n",
    "          \"name\": \"Napo\",\n",
    "          \"unit_price\": {\n",
    "            \"before_discount\": 2.00,\n",
    "            \"after_discount\": 2.00\n",
    "          },\n",
    "          \"quantity\": 1,\n",
    "          \"total_price\": {\n",
    "            \"before_discount\": 2.00,\n",
    "            \"after_discount\": 2.00\n",
    "          },\n",
    "          \"category\": \"Beverage\",\n",
    "          \"tax_rate\": 0.23,\n",
    "          \"discount\": null\n",
    "        }\n",
    "      ],\n",
    "      \"comments\": \"Sale on beverages\",\n",
    "      \"category\": \"Groceries\"\n",
    "    }\n",
    "  ]\n",
    "}\n",
    "\"\"\""
   ]
  },
  {
   "cell_type": "code",
   "execution_count": 13,
   "metadata": {},
   "outputs": [
    {
     "name": "stdout",
     "output_type": "stream",
     "text": [
      "{'id': 'chatcmpl-9aPAlkIHT58AzhO0dC7MpWuT2de1m', 'object': 'chat.completion', 'created': 1718463599, 'model': 'gpt-4o-2024-05-13', 'choices': [{'index': 0, 'message': {'role': 'assistant', 'content': '```json\\n{\\n  \"transactions\": [\\n    {\\n      \"id\": \"F518755\",\\n      \"receipt_number\": \"W787066\",\\n      \"timestamp\": \"2024-01-10T01:08:00Z\",\\n      \"date\": \"2024-01-10\",\\n      \"store\": {\\n        \"name\": \"ORLEN S.A.\",\\n        \"address\": \"Ul. Chemików 7, 09-411 Płock\",\\n        \"additional_information\": \"Stacja Paliw nr 1317 w Zakopanem, ul. Ustup 1B, 34-500 Zakopane\",\\n        \"NIP\": \"774-00-01-454\"\\n      },\\n      \"cashier\": \"130\",\\n      \"terminal_id\": \"K4\",\\n      \"total\": 257.16,\\n      \"currency\": \"PLN\",\\n      \"payment_method\": \"cash\",\\n      \"taxes\": [\\n        {\\n          \"type\": \"VAT\",\\n          \"rate\": 0.23,\\n          \"amount\": 48.09\\n        }\\n      ],\\n      \"discounts\": [],\\n      \"items\": [\\n        {\\n          \"name\": \"Effecta Diesel CN27102011 (AD(3)\",\\n          \"unit_price\": {\\n            \"before_discount\": 39.87,\\n            \"after_discount\": 39.87\\n          },\\n          \"quantity\": 6.45,\\n          \"total_price\": {\\n            \"before_discount\": 257.16,\\n            \"after_discount\": 257.16\\n          },\\n          \"category\": \"Fuel\",\\n          \"tax_rate\": 0.23,\\n          \"discount\": null\\n        }\\n      ],\\n      \"comments\": null,\\n      \"category\": \"Fuel\"\\n    }\\n  ]\\n}\\n```'}, 'logprobs': None, 'finish_reason': 'stop'}], 'usage': {'prompt_tokens': 1671, 'completion_tokens': 370, 'total_tokens': 2041}, 'system_fingerprint': 'fp_aa87380ac5'}\n"
     ]
    }
   ],
   "source": [
    "headers = {\n",
    "  \"Content-Type\": \"application/json\",\n",
    "  \"Authorization\": f\"Bearer {api_key}\"\n",
    "}\n",
    "\n",
    "payload = {\n",
    "  \"model\": \"gpt-4o\",\n",
    "  \"messages\": [\n",
    "    {\n",
    "      \"role\": \"user\",\n",
    "      \"content\": [\n",
    "        {\n",
    "          \"type\": \"text\",\n",
    "          \"text\": f\"{prompt}\"\n",
    "        },\n",
    "        {\n",
    "          \"type\": \"image_url\",\n",
    "          \"image_url\": {\n",
    "            \"url\": f\"data:image/jpeg;base64,{base64_image}\"\n",
    "          }\n",
    "        }\n",
    "      ]\n",
    "    }\n",
    "  ]\n",
    "}\n",
    "\n",
    "response = requests.post(\"https://api.openai.com/v1/chat/completions\", headers=headers, json=payload)\n",
    "\n",
    "print(response.json())"
   ]
  },
  {
   "cell_type": "code",
   "execution_count": 15,
   "metadata": {},
   "outputs": [
    {
     "data": {
      "text/plain": [
       "'```json\\n{\\n  \"transactions\": [\\n    {\\n      \"id\": \"F518755\",\\n      \"receipt_number\": \"W787066\",\\n      \"timestamp\": \"2024-01-10T01:08:00Z\",\\n      \"date\": \"2024-01-10\",\\n      \"store\": {\\n        \"name\": \"ORLEN S.A.\",\\n        \"address\": \"Ul. Chemików 7, 09-411 Płock\",\\n        \"additional_information\": \"Stacja Paliw nr 1317 w Zakopanem, ul. Ustup 1B, 34-500 Zakopane\",\\n        \"NIP\": \"774-00-01-454\"\\n      },\\n      \"cashier\": \"130\",\\n      \"terminal_id\": \"K4\",\\n      \"total\": 257.16,\\n      \"currency\": \"PLN\",\\n      \"payment_method\": \"cash\",\\n      \"taxes\": [\\n        {\\n          \"type\": \"VAT\",\\n          \"rate\": 0.23,\\n          \"amount\": 48.09\\n        }\\n      ],\\n      \"discounts\": [],\\n      \"items\": [\\n        {\\n          \"name\": \"Effecta Diesel CN27102011 (AD(3)\",\\n          \"unit_price\": {\\n            \"before_discount\": 39.87,\\n            \"after_discount\": 39.87\\n          },\\n          \"quantity\": 6.45,\\n          \"total_price\": {\\n            \"before_discount\": 257.16,\\n            \"after_discount\": 257.16\\n          },\\n          \"category\": \"Fuel\",\\n          \"tax_rate\": 0.23,\\n          \"discount\": null\\n        }\\n      ],\\n      \"comments\": null,\\n      \"category\": \"Fuel\"\\n    }\\n  ]\\n}\\n```'"
      ]
     },
     "execution_count": 15,
     "metadata": {},
     "output_type": "execute_result"
    }
   ],
   "source": [
    "content = response.json()['choices'][0]['message']['content']\n",
    "content"
   ]
  },
  {
   "cell_type": "code",
   "execution_count": 16,
   "metadata": {},
   "outputs": [
    {
     "name": "stdout",
     "output_type": "stream",
     "text": [
      "{\n",
      "    \"transactions\": [\n",
      "        {\n",
      "            \"id\": \"F518755\",\n",
      "            \"receipt_number\": \"W787066\",\n",
      "            \"timestamp\": \"2024-01-10T01:08:00Z\",\n",
      "            \"date\": \"2024-01-10\",\n",
      "            \"store\": {\n",
      "                \"name\": \"ORLEN S.A.\",\n",
      "                \"address\": \"Ul. Chemik\\u00f3w 7, 09-411 P\\u0142ock\",\n",
      "                \"additional_information\": \"Stacja Paliw nr 1317 w Zakopanem, ul. Ustup 1B, 34-500 Zakopane\",\n",
      "                \"NIP\": \"774-00-01-454\"\n",
      "            },\n",
      "            \"cashier\": \"130\",\n",
      "            \"terminal_id\": \"K4\",\n",
      "            \"total\": 257.16,\n",
      "            \"currency\": \"PLN\",\n",
      "            \"payment_method\": \"cash\",\n",
      "            \"taxes\": [\n",
      "                {\n",
      "                    \"type\": \"VAT\",\n",
      "                    \"rate\": 0.23,\n",
      "                    \"amount\": 48.09\n",
      "                }\n",
      "            ],\n",
      "            \"discounts\": [],\n",
      "            \"items\": [\n",
      "                {\n",
      "                    \"name\": \"Effecta Diesel CN27102011 (AD(3)\",\n",
      "                    \"unit_price\": {\n",
      "                        \"before_discount\": 39.87,\n",
      "                        \"after_discount\": 39.87\n",
      "                    },\n",
      "                    \"quantity\": 6.45,\n",
      "                    \"total_price\": {\n",
      "                        \"before_discount\": 257.16,\n",
      "                        \"after_discount\": 257.16\n",
      "                    },\n",
      "                    \"category\": \"Fuel\",\n",
      "                    \"tax_rate\": 0.23,\n",
      "                    \"discount\": null\n",
      "                }\n",
      "            ],\n",
      "            \"comments\": null,\n",
      "            \"category\": \"Fuel\"\n",
      "        }\n",
      "    ]\n",
      "}\n"
     ]
    }
   ],
   "source": [
    "# Remove the ```json and ``` markers\n",
    "cleaned_content = content.strip('```json\\n').strip('\\n```')\n",
    "\n",
    "# Parse the cleaned string as JSON\n",
    "json_data = json.loads(cleaned_content)\n",
    "\n",
    "# Print the parsed JSON object to verify\n",
    "print(json.dumps(json_data, indent=4))"
   ]
  }
 ],
 "metadata": {
  "kernelspec": {
   "display_name": "base",
   "language": "python",
   "name": "python3"
  },
  "language_info": {
   "codemirror_mode": {
    "name": "ipython",
    "version": 3
   },
   "file_extension": ".py",
   "mimetype": "text/x-python",
   "name": "python",
   "nbconvert_exporter": "python",
   "pygments_lexer": "ipython3",
   "version": "3.11.7"
  }
 },
 "nbformat": 4,
 "nbformat_minor": 2
}
